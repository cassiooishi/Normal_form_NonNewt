{
 "cells": [
  {
   "cell_type": "code",
   "execution_count": 1,
   "id": "e08d86e8",
   "metadata": {},
   "outputs": [
    {
     "name": "stderr",
     "output_type": "stream",
     "text": [
      "/Users/cassiooishi/miniforge3/lib/python3.10/site-packages/scipy/__init__.py:146: UserWarning: A NumPy version >=1.16.5 and <1.23.0 is required for this version of SciPy (detected version 1.23.3\n",
      "  warnings.warn(f\"A NumPy version >={np_minversion} and <{np_maxversion}\"\n"
     ]
    }
   ],
   "source": [
    "import scipy\n",
    "from scipy.io import loadmat\n",
    "import numpy as np\n",
    "import matplotlib.pyplot as plt\n",
    "from scipy import linalg\n",
    "import math \n",
    "import modred as mr\n",
    "from scipy.linalg import eig\n",
    "import pysindy as ps\n",
    "from scipy.signal import savgol_filter\n",
    "from scipy.io import loadmat\n",
    "#scipy.__version__"
   ]
  },
  {
   "cell_type": "code",
   "execution_count": 55,
   "id": "dc7a900c",
   "metadata": {},
   "outputs": [
    {
     "name": "stdout",
     "output_type": "stream",
     "text": [
      "(2000, 1)\n"
     ]
    }
   ],
   "source": [
    "#Acxx = np.load(\"Cxx.npy\")\n",
    "Acxx = np.loadtxt(\"Cross-slot3/beta0.111/b01_wi06.txt\")\n",
    "#instancia_gravidade0_spreading_Re58.35.npy\n",
    "#np.save(\"traject_46_Re1Wi4.5beta0.9.npy\",QQ)    \n",
    "#Avh = np.load(\"traject_46_Re1Wi4.5beta0.9.npy\")\n",
    "t = Acxx[7000:9000, 0]\n",
    "Acxx = Acxx[7000:9000,1:]\n",
    "print(Acxx.shape)\n"
   ]
  },
  {
   "cell_type": "code",
   "execution_count": 56,
   "id": "c72af605",
   "metadata": {},
   "outputs": [
    {
     "data": {
      "text/plain": [
       "[<matplotlib.lines.Line2D at 0x178ea69b0>]"
      ]
     },
     "execution_count": 56,
     "metadata": {},
     "output_type": "execute_result"
    },
    {
     "data": {
      "image/png": "[encoded data removed]",
      "text/plain": [
       "<Figure size 640x480 with 1 Axes>"
      ]
     },
     "metadata": {},
     "output_type": "display_data"
    }
   ],
   "source": [
    "plt.plot(Acxx[:, 0],'black',label=\"Data\")\n"
   ]
  },
  {
   "cell_type": "code",
   "execution_count": 68,
   "id": "ea41b0ef",
   "metadata": {},
   "outputs": [
    {
     "name": "stdout",
     "output_type": "stream",
     "text": [
      "[7.0001 7.0011 7.0021 ... 8.9971 8.9981 8.9991]\n",
      "1600\n",
      "['c0']\n",
      "[0.61591053 0.61656517 0.6172196  ... 0.99997964 0.99998982 1.        ]\n"
     ]
    }
   ],
   "source": [
    "active_idx = [0]  # Dynamically active modes\n",
    "r = 1\n",
    "#threshold = 0.01\n",
    "tfrac = 0.8  # Proportion of the data to train on\n",
    "print(t)\n",
    "M = len(t)\n",
    "M_train = int(len(t) * tfrac)\n",
    "print(M_train)\n",
    "t_train = t[:M_train]\n",
    "t_test = t[M_train:]\n",
    "\n",
    "#pod_names = [\"a{}\".format(i) for i in range(1, r + 1)]\n",
    "pod_names = [\"c{}\".format(i) for i in (active_idx)]\n",
    "\n",
    "print(pod_names)\n",
    "\n",
    "\n",
    "\n",
    "normalization = sum(np.amax(abs(Acxx), axis=0)[active_idx])\n",
    "#print(normalization)\n",
    "xcxx = np.zeros((Acxx.shape[0], r))\n",
    "\n",
    "#for i in (active_idx):\n",
    "#    x[:, i] = Avh[:, i] / normalization\n",
    "#    plt.subplot(r, 1, i + 1)\n",
    "#    plt.plot(x[:, i])\n",
    "\n",
    "    \n",
    "xcxx[:, 0] = Acxx[:, 0] / normalization\n",
    "#xcxx[:, 1] = Acxx[:, 3] / normalization\n",
    "#xcxx[:, 2] = Acxx[:, 2] / normalization\n",
    "#xcxx[:, 3] = Acxx[:, 4] / normalization\n",
    "#xcxx[:, 1] = Acxx[:, 3] / normalization\n",
    "#xcxx[:, 2] = Acxx[:, 3] / normalization\n",
    "#xcxx[:, 3] = Acxx[:, 4] / normalization\n",
    "print(xcxx[:, 0])"
   ]
  },
  {
   "cell_type": "code",
   "execution_count": 64,
   "id": "fe504fa7",
   "metadata": {},
   "outputs": [],
   "source": [
    "xcxx_train = xcxx[:M_train, :]\n",
    "xcxx0_train = xcxx[0, :]\n",
    "\n",
    "xcxx_test = xcxx[M_train:, :]\n",
    "xcxx0_test = xcxx[M_train, :]\n",
    "\n",
    "#U_train = 1.9440331203736367*np.ones(M_train)  #Acxx[:M_train, 3]\n",
    "\n",
    "#print(U_train)\n",
    "#print(xcxx_train.shape)"
   ]
  },
  {
   "cell_type": "code",
   "execution_count": 65,
   "id": "a26bcee4",
   "metadata": {},
   "outputs": [
    {
     "name": "stdout",
     "output_type": "stream",
     "text": [
      "(c0)' = 1.657 c0 + -1.975 c0c0c0\n"
     ]
    }
   ],
   "source": [
    "#library_functions = [lambda x:x, \n",
    "#                             lambda x, y, z: x * y * z, lambda x, y: x ** 2 * y,\n",
    "#                             lambda x, y: x * y ** 2, lambda x: x ** 3]\n",
    "#library_function_names = [lambda x:x, \n",
    "#                                  lambda x, y, z: x + y + z, lambda x, y: x + x + y,\n",
    " #                                 lambda x, y: x + y + y, lambda x: x + x + x]\n",
    "\n",
    "#library_functions = [lambda x:x, lambda x, y: x ** 2 * y, lambda x: x ** 3]\n",
    "#library_function_names = [lambda x:x, lambda x, y: x + x + y, lambda x: x + x + x]\n",
    "\n",
    "library_functions = [lambda x:x, \n",
    "                             lambda x: x ** 3]\n",
    "library_function_names = [lambda x:x, \n",
    "                                  lambda x: x + x + x]\n",
    "\n",
    "\n",
    "\n",
    "#library_functions = [lambda x:x, lambda x, y:x * y, lambda x:x ** 2]\n",
    "#library_function_names = [lambda x:x, lambda x, y:x + y, lambda x:x + x]\n",
    "\n",
    "#library_functions = [lambda x:x]\n",
    "#library_function_names = [lambda x:x]\n",
    "\n",
    "\n",
    "sindy_library = ps.CustomLibrary(library_functions=library_functions,\n",
    "                                 function_names=library_function_names)\n",
    "\n",
    "#sindy_library = ps.WeakPDELibrary(library_functions=library_functions,\n",
    "#                                 function_names=library_function_names,    \n",
    "#                                  spatiotemporal_grid=t_train,\n",
    "#                                is_uniform=True,\n",
    "#                                K=10,\n",
    "#)\n",
    "\n",
    "#sindy_library = ps.FourierLibrary(n_frequencies=2)\n",
    "\n",
    "\n",
    " #SR3 optimizer with an initial guess\n",
    "#sindy_opt = ps.SR3(\n",
    "#    threshold=threshold, nu=100, \n",
    "#    initial_guess=initial_guess, max_iter=1000\n",
    "#)\n",
    "sindy_opt = ps.SR3(\n",
    "    threshold=0.0001, nu=1, max_iter=1000)\n",
    "\n",
    "#sindy_opt = ps.STLSQ(threshold=0.000001, alpha=1e-2)\n",
    "\n",
    "modelcxx = ps.SINDy(\n",
    "    optimizer=sindy_opt,\n",
    "    feature_library=sindy_library,\n",
    "    #differentiation_method=ps.FiniteDifference(drop_endpoints=True),\n",
    "    feature_names=pod_names,\n",
    "    #feature_names=['Ek','Es','Ed', 'O'],\n",
    ")\n",
    "\n",
    "# Fit a model on the training data\n",
    "modelcxx.fit(xcxx_train, t=t_train)\n",
    "#modelcxx.fit(xcxx_train, t=t_train, u = U_train)\n",
    "#modelcxx.fit(xcxx_train, t=t_train, u = U_train)\n",
    "modelcxx.print()\n",
    "# eigenvalues checking()\n",
    "Xi = modelcxx.coefficients()\n",
    "#print(Xi)"
   ]
  },
  {
   "cell_type": "code",
   "execution_count": 66,
   "id": "65c392b0",
   "metadata": {},
   "outputs": [
    {
     "name": "stdout",
     "output_type": "stream",
     "text": [
      "(1999, 1)\n"
     ]
    }
   ],
   "source": [
    "t_test_full = np.arange(0,1999,1)\n",
    "init_time = 0\n",
    "\n",
    "xcxx_sim = modelcxx.simulate(xcxx[init_time,:], t_test_full[init_time:])\n",
    "#xcxx_sim = modelcxx.simulate(xcxx[init_time,:], t_test_full[init_time:],u=U_train[init_time:])\n",
    "print(xcxx_sim.shape)"
   ]
  },
  {
   "cell_type": "code",
   "execution_count": 67,
   "id": "da97bc5f",
   "metadata": {},
   "outputs": [
    {
     "data": {
      "text/plain": [
       "<matplotlib.legend.Legend at 0x17d90af50>"
      ]
     },
     "execution_count": 67,
     "metadata": {},
     "output_type": "execute_result"
    },
    {
     "data": {
      "image/png": "[encoded data removed]",
      "text/plain": [
       "<Figure size 640x480 with 1 Axes>"
      ]
     },
     "metadata": {},
     "output_type": "display_data"
    }
   ],
   "source": [
    "plt.plot(xcxx[init_time:,0],'black',label=\"Data\")\n",
    "plt.plot(xcxx_sim[:,0], 'r--', label=\"SINDy\")\n",
    "plt.xlabel('${snapshots}$')\n",
    "plt.title('$C_1$')\n",
    "plt.legend()\n"
   ]
  },
  {
   "cell_type": "code",
   "execution_count": null,
   "id": "2cad5483",
   "metadata": {},
   "outputs": [],
   "source": []
  }
 ],
 "metadata": {
  "kernelspec": {
   "display_name": "Python 3 (ipykernel)",
   "language": "python",
   "name": "python3"
  },
  "language_info": {
   "codemirror_mode": {
    "name": "ipython",
    "version": 3
   },
   "file_extension": ".py",
   "mimetype": "text/x-python",
   "name": "python",
   "nbconvert_exporter": "python",
   "pygments_lexer": "ipython3",
   "version": "3.10.6"
  }
 },
 "nbformat": 4,
 "nbformat_minor": 5
}
